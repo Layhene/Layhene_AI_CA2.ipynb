{
 "cells": [
  {
   "cell_type": "markdown",
   "id": "174afe34",
   "metadata": {},
   "source": [
    "## **Continuous Assessment**\n",
    "\n",
    "\n",
    "**Module Title:** Artificial Intelligence \n",
    "\n",
    "**Assessment Title:** CA2\n",
    "\n",
    "**Lecturer Name:**  David McQuaid\n",
    "\n",
    "**Student Name:** Layhene Prado Cecilio\n",
    "\n",
    "**Student Number:** 2020307\n",
    "\n"
   ]
  },
  {
   "cell_type": "code",
   "execution_count": 5,
   "id": "ba710526",
   "metadata": {},
   "outputs": [],
   "source": [
    "graph = {\n",
    "    'A' : ['B','C', 'H'],\n",
    "    'B' : ['A', 'C', 'D'],\n",
    "    'C' : ['A', 'B', 'G'],\n",
    "    'D' : ['B', 'E', 'F', 'L'],\n",
    "    'E' : ['D','F', 'W'],\n",
    "    'F' : ['D', 'E', 'G'],\n",
    "    'G' : ['C', 'F', 'L'],\n",
    "    'H' : ['A', 'K', 'J'],\n",
    "    'J' : ['H', 'K', 'N'],\n",
    "    'K' : ['H', 'J', 'L'],\n",
    "    'L' : ['D', 'G', 'N', 'V', 'W'],\n",
    "    'M' : ['L', 'P', 'Q'],\n",
    "    'N' : ['J', 'L', 'P', 'S'],\n",
    "    'P' : ['N', 'R', 'M'],\n",
    "    'Q' : ['M', 'Q', 'S'],\n",
    "    'R' : ['P', 'T', 'S'],\n",
    "    'S' : ['N', 'Q', 'R', 'T', 'U', 'V'],\n",
    "    'T' : ['R', 'U', 'S'],\n",
    "    'U' : ['T', 'V', 'S'],\n",
    "    'V' : ['L', 'U', 'W', 'S'],\n",
    "    'W' : ['E', 'L', 'V', 'Q']\n",
    "    \n",
    "}"
   ]
  },
  {
   "cell_type": "code",
   "execution_count": 6,
   "id": "e2335943",
   "metadata": {},
   "outputs": [],
   "source": [
    "def bfs(graph, start, end):\n",
    "  visited = [start]\n",
    "  queue = [start]\n",
    "  hierarchy = {start: None}\n",
    "\n",
    "  while len(queue) > 0:\n",
    "    current = queue.pop(0)\n",
    "\n",
    "    if current == end:\n",
    "      path = [end]\n",
    "      child = end\n",
    "      while start not in path:\n",
    "        path = [hierarchy[child]] + path\n",
    "        child = hierarchy[child]\n",
    "      return path\n",
    "      \n",
    "    for node in graph[current]:\n",
    "      if node not in visited:\n",
    "        visited += [node]\n",
    "        queue += [node]\n",
    "        hierarchy[node] = current"
   ]
  },
  {
   "cell_type": "code",
   "execution_count": 7,
   "id": "70dcc18c",
   "metadata": {},
   "outputs": [
    {
     "data": {
      "text/plain": [
       "['A', 'H', 'J', 'N', 'S']"
      ]
     },
     "execution_count": 7,
     "metadata": {},
     "output_type": "execute_result"
    }
   ],
   "source": [
    "bfs(graph, 'A', 'S')"
   ]
  },
  {
   "cell_type": "markdown",
   "id": "3449b141",
   "metadata": {},
   "source": [
    "**(i). Identify the differences between a graph and a tree**\n",
    "\n",
    "There are several differences bettween them.\n",
    " * Connective is one of them where a trees always will have it nodes connected different from graphs as they can have nodes components disconnected and or in separeted paths.\n",
    " * Roots/unroot trees will tipically have roots what happens is that it will have  a \"root(parent)\" node and all the path will descend from it. Otherwise graphs there is not a unic node that acts as a root node \"root(parent)\".\n",
    " * Cycles is one off the main difference structure as trees will not have circles as it has to start fom the root(parent) and make it is unic path away to the next node. While in graphs you can reach a node and walk through edges and return to the start node.\n",
    " * Directions in graphs can be directed and also undirected as in a direct graph the edges will have a specific one-way relationship between nodes.Trees will have only a specift direction that goes away from the root and each node has a parent besides the roo.\n",
    " * traversal is a tech for graphs is used Breadh-First Seach(BFS),and Depth-Firts Search(DFS). For travesing a tree will be used in-order, pre-order, and or post-order methods.\n"
   ]
  },
  {
   "cell_type": "code",
   "execution_count": null,
   "id": "fce1b27e",
   "metadata": {},
   "outputs": [],
   "source": []
  }
 ],
 "metadata": {
  "kernelspec": {
   "display_name": "Python 3 (ipykernel)",
   "language": "python",
   "name": "python3"
  },
  "language_info": {
   "codemirror_mode": {
    "name": "ipython",
    "version": 3
   },
   "file_extension": ".py",
   "mimetype": "text/x-python",
   "name": "python",
   "nbconvert_exporter": "python",
   "pygments_lexer": "ipython3",
   "version": "3.9.18"
  }
 },
 "nbformat": 4,
 "nbformat_minor": 5
}
