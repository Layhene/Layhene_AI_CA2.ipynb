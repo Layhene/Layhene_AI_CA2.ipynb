{
 "cells": [
  {
   "cell_type": "markdown",
   "id": "174afe34",
   "metadata": {},
   "source": [
    "## **Continuous Assessment**\n",
    "\n",
    "\n",
    "**Module Title:** Artificial Intelligence \n",
    "\n",
    "**Assessment Title:** CA2\n",
    "\n",
    "**Lecturer Name:**  David McQuaid\n",
    "\n",
    "**Student Name:** Layhene Prado Cecilio\n",
    "\n",
    "**Student Number:** 2020307\n",
    "\n"
   ]
  },
  {
   "cell_type": "code",
   "execution_count": 1,
   "id": "ba710526",
   "metadata": {},
   "outputs": [],
   "source": [
    "graph = {\n",
    "    'A' : ['B','C', 'H'],\n",
    "    'B' : ['A', 'C', 'D'],\n",
    "    'C' : ['A', 'B', 'G'],\n",
    "    'D' : ['B', 'E', 'F', 'L'],\n",
    "    'E' : ['D','F', 'W'],\n",
    "    'F' : ['D', 'E', 'G'],\n",
    "    'G' : ['C', 'F', 'L'],\n",
    "    'H' : ['A', 'K', 'J'],\n",
    "    'J' : ['H', 'K', 'N'],\n",
    "    'K' : ['H', 'J', 'L'],\n",
    "    'L' : ['D', 'G', 'N', 'V', 'W'],\n",
    "    'M' : ['L', 'P', 'Q'],\n",
    "    'N' : ['J', 'L', 'P', 'S'],\n",
    "    'P' : ['N', 'R', 'M'],\n",
    "    'Q' : ['M', 'Q', 'S'],\n",
    "    'R' : ['P', 'T', 'S'],\n",
    "    'S' : ['N', 'Q', 'R', 'T', 'U', 'V'],\n",
    "    'T' : ['R', 'U', 'S'],\n",
    "    'U' : ['T', 'V', 'S'],\n",
    "    'V' : ['L', 'U', 'W', 'S'],\n",
    "    'W' : ['E', 'L', 'V', 'Q']\n",
    "    \n",
    "}"
   ]
  },
  {
   "cell_type": "code",
   "execution_count": 2,
   "id": "e2335943",
   "metadata": {},
   "outputs": [],
   "source": [
    "def bfs(graph, start, end):\n",
    "  visited = [start]\n",
    "  queue = [start]\n",
    "  hierarchy = {start: None}\n",
    "\n",
    "  while len(queue) > 0:\n",
    "    current = queue.pop(0)\n",
    "\n",
    "    if current == end:\n",
    "      path = [end]\n",
    "      child = end\n",
    "      while start not in path:\n",
    "        path = [hierarchy[child]] + path\n",
    "        child = hierarchy[child]\n",
    "      return path\n",
    "      \n",
    "    for node in graph[current]:\n",
    "      if node not in visited:\n",
    "        visited += [node]\n",
    "        queue += [node]\n",
    "        hierarchy[node] = current"
   ]
  },
  {
   "cell_type": "code",
   "execution_count": 3,
   "id": "70dcc18c",
   "metadata": {},
   "outputs": [
    {
     "data": {
      "text/plain": [
       "['A', 'H', 'J', 'N', 'S']"
      ]
     },
     "execution_count": 3,
     "metadata": {},
     "output_type": "execute_result"
    }
   ],
   "source": [
    "bfs(graph, 'A', 'S')"
   ]
  },
  {
   "cell_type": "markdown",
   "id": "3449b141",
   "metadata": {},
   "source": [
    "**(i). Identify the differences between a graph and a tree**\n",
    "\n",
    "There are several differences bettween them.\n",
    " * Connective is one of them where a trees always will have it nodes connected different from graphs as they can have nodes components disconnected and or in separeted paths.\n",
    " * Roots/unroot trees will tipically have roots what happens is that it will have  a \"root(parent)\" node and all the path will descend from it. Otherwise graphs there is not a unic node that acts as a root node \"root(parent)\".\n",
    " * Cycles is one off the main difference structure as trees will not have circles as it has to start fom the root(parent) and make it is unic path away to the next node. While in graphs you can reach a node and walk through edges and return to the start node.\n",
    " * Directions in graphs can be directed and also undirected as in a direct graph the edges will have a specific one-way relationship between nodes.Trees will have only a specift direction that goes away from the root and each node has a parent besides the roo.\n",
    " * traversal is a technique used to visit and process all nodes for graphs is used Breadh-First Seach(BFS),and Depth-Firts Search(DFS). For travesing a tree will be used in-order, pre-order, and or post-order methods.\n"
   ]
  },
  {
   "attachments": {},
   "cell_type": "markdown",
   "id": "6f0348bd",
   "metadata": {},
   "source": [
    "**(ii). Explain in detail how the graph is an abstraction of the problem**\n",
    "\n",
    "For this graph reach \"S\" from \"A\" is the goal so as visible in the graph there is more than one possibly route for that.\n",
    "\n",
    "**Node \"A\"**   \n",
    "[B(1) C(5) H(2)]\n",
    "\n",
    "**Node \"B\"**   \n",
    "[[A(1) C(2) D(4)]\n",
    "\n",
    "**Node \"C\"**    \n",
    "[B(2) G(1)]\n",
    "\n",
    "\n",
    "**Node \"D\"**       \n",
    "[E(4) F(7) L(7)]\n",
    "\n",
    "**Node \"E\"**      \n",
    "[D(4) F(3) W(6)]\n",
    "\n",
    "**Node \"F\"**   \n",
    "[D(7) G(2) E(3)]\n",
    "\n",
    "**Node\"G\"**        \n",
    "[C(1) F(2) L(3)]\n",
    "\n",
    "**Node \"H\"**     \n",
    "[A(1) K(5) J(9)] \n",
    "\n",
    "\n",
    "**Node \"J\"**   \n",
    "[H(9) K(3) N(6)] \n",
    "\n",
    "**Node \"K\"**     \n",
    "[L(5) J(3) H(9)]  \n",
    "\n",
    "**Node \"L\"**   \n",
    "[K(5) N(3) M(4) V(10) W(5)] \n",
    "\n",
    "\n",
    "**Node\"M\"**    \n",
    "[L(4) Q(10) P(2)]\n",
    "\n",
    "\n",
    "**Node\"N\"**              \n",
    "[J(6) L(3) P(4) S(7)] \n",
    "\n",
    "**Node \"P\"**   \n",
    "[N(4) M(2) R(5)] \n",
    "\n",
    " **Node \"Q\"**                    \n",
    "[M(10) W(4) S(8)] \n",
    "\n",
    "**Node \"R\"**                \n",
    "[P(5) S(4) T(3)] \n",
    "\n",
    "**Node \"S\"**                   \n",
    "[N(7) Q(8) V(6) T(4) R(4) U(2)]\n",
    "\n",
    "**Node\"T\"**      \n",
    "[R(3) S(4) U(1)] \n",
    "\n",
    "**Node \"U\"**    \n",
    "[S(2) T(1) V(3)]\n",
    "\n",
    "**Node \"V\"**  \n",
    "[L(10) S(6) U(3)]\n",
    "\n",
    "**Node \"W\"**    \n",
    "[E(6) L(8) Q(4) S(6)]\n",
    "\n",
    " "
   ]
  },
  {
   "cell_type": "markdown",
   "id": "e311d737",
   "metadata": {},
   "source": [
    "**(iii). Identify the advantages of using a visualisation such as the one shown in Fig.**\n",
    "\n",
    "For the given graph I will be represent my explanation as a trip so lets say the nodes are the monuments/sightsee that I want to visit and the edges are all the possible routes I have to get to these points. In order to better use my time will always have a better route where the path is shorter and or more favourable due to my conditions so for example I have a short amount of time to visit the city this city has 21 sightings/nodes so lets say I've two particular ones that I wan to see \"A\" and \"S\" since I've decided my priorites now I can calculate what are the other monuments closet to then so \"A\" is where a start and \"S\" is where I am going. I will get the 21 sights and mark they on the map then I will trace a route to get to monument \"S\" fast and see what are the other monuments in the away that I can visit. this is a simplified version as it can be way more detailed if you start to add variables so for example if I will be driving traffic should be considered as it can get jammed and compromise the time so the better route will be different from a walking one.\n",
    "The use of graph give me this vizual piont of view of where I had just a map and priority wants to visit/nodes with all the cordenation organisation and the odds the calculation of all the possible paths/edges gave me all those possibilities and the solution of the equation what would be my goal the better route to go from point \"A\" to \"S\" and seeig as much as possible along the way."
   ]
  },
  {
   "cell_type": "markdown",
   "id": "6e68e969",
   "metadata": {},
   "source": [
    "# **References and Resources**"
   ]
  },
  {
   "cell_type": "markdown",
   "id": "e04f9f23",
   "metadata": {},
   "source": [
    "**1 (a).**\n",
    "\n",
    "**(i).**\n",
    "\n",
    "https://www.geeksforgeeks.org/difference-between-graph-and-tree/\n",
    "\n",
    "https://techdifferences.com/difference-between-tree-and-graph.html\n",
    "\n",
    "https://www.javatpoint.com/tree-vs-graph-data-structure\n",
    "\n",
    "**(ii).**\n",
    "\n",
    "https://www.freecodecamp.org/news/i-dont-understand-graph-theory-1c96572a1401/\n",
    "\n",
    "https://www.youtube.com/watch?v=_OVWjMkGsNY\n",
    "\n",
    "**(iii).**\n",
    "\n",
    "no references were needed.\n",
    "\n",
    "\n"
   ]
  },
  {
   "cell_type": "code",
   "execution_count": null,
   "id": "c07772d6",
   "metadata": {},
   "outputs": [],
   "source": []
  }
 ],
 "metadata": {
  "kernelspec": {
   "display_name": "Python 3 (ipykernel)",
   "language": "python",
   "name": "python3"
  },
  "language_info": {
   "codemirror_mode": {
    "name": "ipython",
    "version": 3
   },
   "file_extension": ".py",
   "mimetype": "text/x-python",
   "name": "python",
   "nbconvert_exporter": "python",
   "pygments_lexer": "ipython3",
   "version": "3.9.18"
  }
 },
 "nbformat": 4,
 "nbformat_minor": 5
}
